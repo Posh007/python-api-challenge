{
 "cells": [
  {
   "cell_type": "code",
   "execution_count": null,
   "metadata": {},
   "outputs": [],
   "source": [
    "#clean up DataSet by remooving NAN\n",
    "clean_ideal = ideal_city.dropna()\n",
    "\n",
    "clean_ideal"
   ]
  },
  {
   "cell_type": "code",
   "execution_count": null,
   "metadata": {},
   "outputs": [],
   "source": [
    "ideal_city = pd.DataFrame(city_data, columns = [\"City\", \"Max Temp\", \"Wind Speed\", \"Cloudiness\"])\n",
    "\n",
    "max_temp = (city_data[\"Max Temp\"] <= 85) & (city_data[\"Max Temp\"] > 70)\n",
    "wind_speed = city_data[\"Wind Speed\"] < 10\n",
    "cloudiness = city_data[\"Cloudiness\"] == 0\n",
    "\n",
    "# new_types_df[max_temp & wind_speed & cloudiness]\n",
    "ideal_city[max_temp & wind_speed & cloudiness]"
   ]
  },
  {
   "cell_type": "code",
   "execution_count": null,
   "metadata": {},
   "outputs": [],
   "source": [
    "#Generate dataframe for nearest hotels\n",
    "nearest_hotels_df=ideal_city.loc[[\"City\",\"Country\",\"Lat [deg]\",\"Long [deg]\"]].T\n",
    "nearest_hotels_df[\"Hotel Name\"]=\"\"\n",
    "nearest_hotels_df[\"Hotel Lat\"]=\"\"\n",
    "nearest_hotels_df[\"Hotel Lng\"]=\"\"\n",
    "nearest_hotels_df[\"Hotel Rating\"]=\"\"\n",
    "nearest_hotels_df[\"Hotel Total Reviews\"]=\"\"\n",
    "nearest_hotels_df.head()"
   ]
  },
  {
   "cell_type": "code",
   "execution_count": null,
   "metadata": {},
   "outputs": [],
   "source": [
    "hotel_list = ideal_city\n",
    "\n",
    "    base_url = \"https://maps.googleapis.com/maps/api/place/nearbysearch/json\"\n",
    "    requested = requests.get(base_url, params=params)\n",
    "    jsn = requested.json()\n",
    "    try:\n",
    "         hotel_df.loc[index, 'Hotel Name'] = response['results'][0]['name']\n",
    "    except:\n",
    "        hotel_list.append(\"\")\n",
    "hotel_df[\"Hotel Name\"] = hotel_list\n",
    "hotel_df = hotel_df.dropna(how='any')\n",
    "hotel_df.head()"
   ]
  },
  {
   "cell_type": "code",
   "execution_count": null,
   "metadata": {},
   "outputs": [],
   "source": [
    "# Use the lat/lng we recovered to identify hotels\n",
    "\n",
    "for index, row in hotel_df.iterrows():\n",
    "    \n",
    "    # get lat, lng \n",
    "    lat = row[\"Lat\"]\n",
    "    lng = row[\"Lng\"]\n",
    "    \n",
    "    # change location each iteration while leaving original params in place\n",
    "    params[\"location\"] = f\"{lat},{lng}\"\n",
    "    \n",
    "  \n",
    "    \n",
    "    # make request and print url\n",
    "    response = requests.get(base_url, params=params)\n",
    "    \n",
    "  \n",
    "    # Since some data may be missing we incorporate a try-except to skip any that are missing a data point.\n",
    "    try:\n",
    "        hotel_df.loc[index, \"Hotel Name\"] = hotel_name[\"results\"][0][\"name\"]\n",
    "    except (KeyError, IndexError):\n",
    "        print(\"Missing field/result... skipping.\")\n",
    "hotel_df\n",
    "\n",
    "\n",
    "\n",
    "    \n",
    "#iterate through the rows of the df\n",
    "for index, row in hotel_df.iterrows():\n",
    "    \n",
    "    coordinates = f\"{row['Lat']},{row['Lng']}\"\n",
    "    params = {\"location\": coordinates, \"radius\": 1000, \"type\": 'lodging', \"key\": g_key}\n",
    "    response = requests.get(base_url, params=params).json()\n",
    "    try:\n",
    "        hotel_df.loc[index, 'Hotel Name'] = response['results'][0]['name']\n",
    "    except(KeyError, IndexError):\n",
    "        print('Missing Field. Skipping...')"
   ]
  },
  {
   "cell_type": "code",
   "execution_count": null,
   "metadata": {},
   "outputs": [],
   "source": [
    "#Set parameters to search for hotels with 5000 meters.\n",
    "base_url = \"https://maps.googleapis.com/maps/api/place/nearbysearch/json?\"\n",
    "\n",
    "params = {\"type\" : \"lodging\",\n",
    "          \"keyword\" : \"hotel\",\n",
    "          \"radius\" : 5000,\n",
    "          \"api_key\" : g_key}\n",
    "\n",
    "\n",
    "for index, row in hotel_df.iterrows():\n",
    "    lat = row[\"Lat\"]\n",
    "    lng = row[\"Lng\"]\n",
    "    hotel_name = row[\"City\"]\n",
    "    \n",
    "    params[\"location\"] = f\"{lat},{lng}\"\n",
    "    \n",
    "    print(f\"Retrieving Results for Index {index}: {\"Hotel Name\"}.\")\n",
    "    response = requests.get(base_url, params=params).json()\n",
    "    results = response['results']\n",
    "    \n",
    "    #Save the hotel name to the dataframe\n",
    "    try:\n",
    "        print(f\"Closest hotel in {city_name} is {results[0]['name']}.\")\n",
    "        hotel_df.loc[index, \"Hotel Name\"] = results[0]['name']\n",
    "    except (KeyError, IndexError):\n",
    "        print(\"Could not find result\")\n",
    "        print(\"-------------------------\")\n",
    "        #delay the code by one second to avoid an error\n",
    "     \n",
    "    print(\"--------------------Ending Search\")"
   ]
  }
 ],
 "metadata": {
  "kernelspec": {
   "display_name": "Python 3",
   "language": "python",
   "name": "python3"
  },
  "language_info": {
   "codemirror_mode": {
    "name": "ipython",
    "version": 3
   },
   "file_extension": ".py",
   "mimetype": "text/x-python",
   "name": "python",
   "nbconvert_exporter": "python",
   "pygments_lexer": "ipython3",
   "version": "3.7.9"
  }
 },
 "nbformat": 4,
 "nbformat_minor": 4
}
